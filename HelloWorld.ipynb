{
  "nbformat": 4,
  "nbformat_minor": 0,
  "metadata": {
    "colab": {
      "provenance": [],
      "authorship_tag": "ABX9TyP9OzrX6VkNnyMA5JENsg7g",
      "include_colab_link": true
    },
    "kernelspec": {
      "name": "python3",
      "display_name": "Python 3"
    },
    "language_info": {
      "name": "python"
    }
  },
  "cells": [
    {
      "cell_type": "markdown",
      "metadata": {
        "id": "view-in-github",
        "colab_type": "text"
      },
      "source": [
        "<a href=\"https://colab.research.google.com/github/Lerner-11052025-20/Python-By-DS/blob/main/HelloWorld.ipynb\" target=\"_parent\"><img src=\"https://colab.research.google.com/assets/colab-badge.svg\" alt=\"Open In Colab\"/></a>"
      ]
    },
    {
      "cell_type": "code",
      "execution_count": 2,
      "metadata": {
        "colab": {
          "base_uri": "https://localhost:8080/"
        },
        "id": "UTHMLeC6B17J",
        "outputId": "8a2ce7a5-c8d0-4907-a6fd-17c8b0cd68e6"
      },
      "outputs": [
        {
          "output_type": "execute_result",
          "data": {
            "text/plain": [
              "8"
            ]
          },
          "metadata": {},
          "execution_count": 2
        }
      ],
      "source": [
        "# prompt: add 2 numbers code\n",
        "\n",
        "a = 5\n",
        "b = 3\n",
        "sum_result = a + b\n",
        "sum_result"
      ]
    },
    {
      "cell_type": "code",
      "source": [
        "# prompt: build BST from sorted array and also print with example\n",
        "\n",
        "class Node:\n",
        "    def __init__(self, data):\n",
        "        self.data = data\n",
        "        self.left = None\n",
        "        self.right = None\n",
        "\n",
        "def sorted_array_to_bst(arr):\n",
        "    if not arr:\n",
        "        return None\n",
        "\n",
        "    mid = len(arr) // 2\n",
        "    root = Node(arr[mid])\n",
        "\n",
        "    root.left = sorted_array_to_bst(arr[:mid])\n",
        "    root.right = sorted_array_to_bst(arr[mid+1:])\n",
        "\n",
        "    return root\n",
        "\n",
        "def inorder_traversal(root):\n",
        "    if root:\n",
        "        inorder_traversal(root.left)\n",
        "        print(root.data, end=\" \")\n",
        "        inorder_traversal(root.right)\n",
        "\n",
        "# Example usage:\n",
        "sorted_array = [1, 2, 3, 4, 5, 6, 7]\n",
        "root = sorted_array_to_bst(sorted_array)\n",
        "\n",
        "print(\"Inorder traversal of the constructed BST:\")\n",
        "inorder_traversal(root)\n",
        "print()\n"
      ],
      "metadata": {
        "colab": {
          "base_uri": "https://localhost:8080/"
        },
        "id": "o9pEj3EGCNf8",
        "outputId": "546def77-fcf1-493d-8784-815b70c11554"
      },
      "execution_count": 7,
      "outputs": [
        {
          "output_type": "stream",
          "name": "stdout",
          "text": [
            "Inorder traversal of the constructed BST:\n",
            "1 2 3 4 5 6 7 \n"
          ]
        }
      ]
    }
  ]
}