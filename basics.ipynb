{
  "nbformat": 4,
  "nbformat_minor": 0,
  "metadata": {
    "colab": {
      "provenance": [],
      "authorship_tag": "ABX9TyPLnHbc33x38uEN+niqGi16",
      "include_colab_link": true
    },
    "kernelspec": {
      "name": "python3",
      "display_name": "Python 3"
    },
    "language_info": {
      "name": "python"
    }
  },
  "cells": [
    {
      "cell_type": "markdown",
      "metadata": {
        "id": "view-in-github",
        "colab_type": "text"
      },
      "source": [
        "<a href=\"https://colab.research.google.com/github/Lerner-11052025-20/Python-By-DS/blob/main/basics.ipynb\" target=\"_parent\"><img src=\"https://colab.research.google.com/assets/colab-badge.svg\" alt=\"Open In Colab\"/></a>"
      ]
    },
    {
      "cell_type": "code",
      "execution_count": null,
      "metadata": {
        "colab": {
          "base_uri": "https://localhost:8080/"
        },
        "id": "gJ-0s_3CCBkS",
        "outputId": "62e72678-5553-4e65-a013-84a365667b44"
      },
      "outputs": [
        {
          "output_type": "stream",
          "name": "stdout",
          "text": [
            "Arithmetic Operators:\n",
            "5\n",
            "1\n",
            "6\n",
            "1.5\n",
            "1\n",
            "9\n",
            " \n",
            "Comparison Operators:\n",
            "False\n",
            "True\n",
            "True\n",
            "False\n",
            "True\n",
            "False\n",
            " \n",
            "Assignment Operators:\n",
            "5\n",
            "8\n",
            "5\n",
            "15\n",
            "5.0\n",
            "2.0\n",
            " \n",
            "Bitwise Operators:\n",
            "12\n",
            "61\n",
            "49\n",
            "-61\n",
            "240\n",
            "15\n",
            " \n",
            "Logical Operators:\n",
            "False\n",
            "True\n",
            "True\n",
            " \n",
            "Membership Operators:\n",
            "False\n",
            "True\n",
            " \n",
            "Identity Operators:\n",
            "False\n",
            "True\n",
            " \n"
          ]
        }
      ],
      "source": [
        "# => For Basics of Python:\n",
        "\n",
        "a = 3\n",
        "b = 2\n",
        "\n",
        "# Arithmetic Operators\n",
        "print(\"Arithmetic Operators:\")\n",
        "print(a + b)       # Addition\n",
        "print(a - b)       # Subtraction\n",
        "print(a * b)       # Multiplication\n",
        "print(a / b)       # Division\n",
        "print(a % b)       # Modulus\n",
        "print(a ** b)      # Exponentiation\n",
        "print(\" \")\n",
        "\n",
        "# Comparison Operators\n",
        "print(\"Comparison Operators:\")\n",
        "print(a == b)      # Equal\n",
        "print(a != b)      # Not Equal\n",
        "print(a > b)       # Greater than\n",
        "print(a < b)       # Less than\n",
        "print(a >= b)      # Greater than or equal to\n",
        "print(a <= b)      # Less than or equal to\n",
        "print(\" \")\n",
        "\n",
        "# Assignment Operators\n",
        "print(\"Assignment Operators:\")\n",
        "c = a + b\n",
        "print(c)\n",
        "\n",
        "c += a\n",
        "print(c)\n",
        "\n",
        "c -= a\n",
        "print(c)\n",
        "\n",
        "c *= a\n",
        "print(c)\n",
        "\n",
        "c /= a\n",
        "print(c)\n",
        "\n",
        "c %= a\n",
        "print(c)\n",
        "print(\" \")\n",
        "\n",
        "# Bitwise Operators\n",
        "a = 60\n",
        "b = 13\n",
        "\n",
        "print(\"Bitwise Operators:\")\n",
        "print(a & b)       # AND\n",
        "print(a | b)       # OR\n",
        "print(a ^ b)       # XOR\n",
        "print(~a)          # NOT\n",
        "print(a << 2)      # Left Shift\n",
        "print(a >> 2)      # Right Shift\n",
        "print(\" \")\n",
        "\n",
        "# Logical Operators\n",
        "print(\"Logical Operators:\")\n",
        "print(True and False)\n",
        "print(True or False)\n",
        "print(not (True and False))\n",
        "print(\" \")\n",
        "\n",
        "# Membership Operators\n",
        "y = [10, 20, 30]\n",
        "x = 15\n",
        "\n",
        "print(\"Membership Operators:\")\n",
        "print(x in y)\n",
        "print(x not in y)\n",
        "print(\" \")\n",
        "\n",
        "# Identity Operators\n",
        "n1 = 5\n",
        "n2 = 10\n",
        "\n",
        "print(\"Identity Operators:\")\n",
        "print(n1 is n2)\n",
        "print(n1 is not n2)\n",
        "print(\" \")\n",
        "\n",
        "\n"
      ]
    },
    {
      "cell_type": "code",
      "source": [
        "# Decision Making\n",
        "\n",
        "# if statement\n",
        "age = 19\n",
        "print(\"If Statement:\")\n",
        "if age >= 18:\n",
        "    print(\"You can vote\")\n",
        "print(\" \")\n",
        "\n",
        "# if-else statement\n",
        "num = 12\n",
        "print(\"If-Else Statement:\")\n",
        "if num % 2 == 0:\n",
        "    print(\"Number is even\")\n",
        "else:\n",
        "    print(\"Number is odd\")\n",
        "print(\" \")\n",
        "\n",
        "# if-elif-else ladder\n",
        "n = 0\n",
        "print(\"If-Elif-Else Ladder:\")\n",
        "if n > 0:\n",
        "    print(\"Number is positive\")\n",
        "elif n < 0:\n",
        "    print(\"Number is negative\")\n",
        "else:\n",
        "    print(\"Number is zero\")\n",
        "print(\" \")"
      ],
      "metadata": {
        "colab": {
          "base_uri": "https://localhost:8080/"
        },
        "id": "qCTrGA-RC3u2",
        "outputId": "d939db2d-f94c-4a9c-ae6f-43e741796a7a"
      },
      "execution_count": null,
      "outputs": [
        {
          "output_type": "stream",
          "name": "stdout",
          "text": [
            "If Statement:\n",
            "You can vote\n",
            " \n",
            "If-Else Statement:\n",
            "Number is even\n",
            " \n",
            "If-Elif-Else Ladder:\n",
            "Number is zero\n",
            " \n"
          ]
        }
      ]
    },
    {
      "cell_type": "code",
      "source": [
        "# While loop\n",
        "print(\"While Loop:\")\n",
        "num = 1\n",
        "while num <= 10:\n",
        "    print(\"Number is\", num)\n",
        "    num = num + 1\n",
        "print(\" \")\n",
        "\n",
        "# For loop\n",
        "print(\"For Loop:\")\n",
        "fruits = [\"apple\", \"banana\", \"mango\", \"orange\"]\n",
        "for fruit in fruits:\n",
        "    print(fruit)\n",
        "print(\" \")\n",
        "\n",
        "\n"
      ],
      "metadata": {
        "colab": {
          "base_uri": "https://localhost:8080/"
        },
        "id": "W2PLxyCxC9RN",
        "outputId": "5392e49c-7878-4b97-ff83-994cdcad1969"
      },
      "execution_count": null,
      "outputs": [
        {
          "output_type": "stream",
          "name": "stdout",
          "text": [
            "While Loop:\n",
            "Number is 1\n",
            "Number is 2\n",
            "Number is 3\n",
            "Number is 4\n",
            "Number is 5\n",
            "Number is 6\n",
            "Number is 7\n",
            "Number is 8\n",
            "Number is 9\n",
            "Number is 10\n",
            " \n",
            "For Loop:\n",
            "apple\n",
            "banana\n",
            "mango\n",
            "orange\n",
            " \n",
            "Function Example:\n",
            "Hello, How are You?\n",
            " \n"
          ]
        }
      ]
    },
    {
      "cell_type": "code",
      "source": [
        "# Function\n",
        "print(\"Function Example:\")\n",
        "def greet():\n",
        "    print(\"Hello, How are You?\")\n",
        "\n",
        "greet()\n",
        "print(\" \")\n",
        "\n",
        "# Function with arguments\n",
        "print(\"Function with Arguments:\")\n",
        "\n",
        "def sum(num1, num2):\n",
        "    add = num1 + num2\n",
        "    print(\"Sum is\", add)\n",
        "\n",
        "sum(3, 2)\n",
        "print(\" \")\n"
      ],
      "metadata": {
        "colab": {
          "base_uri": "https://localhost:8080/"
        },
        "id": "3RInAoO1DQFR",
        "outputId": "90585768-f34b-4599-95f6-a1f94443c441"
      },
      "execution_count": null,
      "outputs": [
        {
          "output_type": "stream",
          "name": "stdout",
          "text": [
            "Function Example:\n",
            "Hello, How are You?\n",
            " \n",
            "Function with Arguments:\n",
            "Sum is 5\n",
            " \n"
          ]
        }
      ]
    },
    {
      "cell_type": "code",
      "source": [
        "# Break Statement\n",
        "print(\"Break Statement:\")\n",
        "value = range(5)\n",
        "for x in value:\n",
        "    if x == 3:\n",
        "        break\n",
        "    print(\"x is\", x)\n",
        "print(\" \")\n",
        "\n",
        "# Continue Statement\n",
        "print(\"Continue Statement:\")\n",
        "for x in value:\n",
        "    if x == 3:\n",
        "        continue\n",
        "    print(\"x is\", x)\n",
        "print(\" \")\n"
      ],
      "metadata": {
        "id": "0cdpdpG9DXNO",
        "colab": {
          "base_uri": "https://localhost:8080/"
        },
        "outputId": "ce9a7159-7184-4332-f65f-06ac0ff46efc"
      },
      "execution_count": 12,
      "outputs": [
        {
          "output_type": "stream",
          "name": "stdout",
          "text": [
            "Break Statement:\n",
            "x is 0\n",
            "x is 1\n",
            "x is 2\n",
            " \n",
            "Continue Statement:\n",
            "x is 0\n",
            "x is 1\n",
            "x is 2\n",
            "x is 4\n",
            " \n"
          ]
        }
      ]
    },
    {
      "cell_type": "code",
      "source": [
        "# Mathematical Functions\n",
        "print(\"Mathematical Functions:\")\n",
        "\n",
        "a = 3\n",
        "b = 2\n",
        "\n",
        "r = max(a, b)\n",
        "print(\"Maximum is:\", r)\n",
        "\n",
        "r = min(a, b)\n",
        "print(\"Minimum is:\", r)\n",
        "print(\" \")\n"
      ],
      "metadata": {
        "colab": {
          "base_uri": "https://localhost:8080/"
        },
        "id": "k6Sc2gIoDtQQ",
        "outputId": "6ed06ab0-8965-454f-8999-f24426312ba3"
      },
      "execution_count": 14,
      "outputs": [
        {
          "output_type": "stream",
          "name": "stdout",
          "text": [
            "Mathematical Functions:\n",
            "Maximum is: 3\n",
            "Minimum is: 2\n",
            " \n"
          ]
        }
      ]
    },
    {
      "cell_type": "code",
      "source": [
        "# String Methods\n",
        "print(\"String Methods:\")\n",
        "\n",
        "str = \"shubham\"\n",
        "\n",
        "print(str.capitalize())   # Capitalize first letter\n",
        "print(str.isalnum())      # True if all characters are alphanumeric\n",
        "print(str.isalpha())      # True if all characters are alphabetic\n",
        "print(str.isdigit())      # False because it contains letters\n",
        "print(str.islower())      # True because all are lowercase\n",
        "print(str.isspace())      # False because it's not only spaces\n",
        "print(str.isupper())      # False because all are lowercase\n",
        "print(len(str))           # Length of the string\n",
        "\n",
        "print(str.lower())        # Convert to lowercase\n",
        "print(max(str))           # Highest ASCII character\n",
        "print(min(str))           # Lowest ASCII character\n",
        "print(str.upper())        # Convert to uppercase\n",
        "print(\" \")\n"
      ],
      "metadata": {
        "colab": {
          "base_uri": "https://localhost:8080/"
        },
        "id": "5mJYmh0GDyzs",
        "outputId": "f8c26567-775d-4d95-e424-04703d4eb70c"
      },
      "execution_count": 15,
      "outputs": [
        {
          "output_type": "stream",
          "name": "stdout",
          "text": [
            "String Methods:\n",
            "Shubham\n",
            "True\n",
            "True\n",
            "False\n",
            "True\n",
            "False\n",
            "False\n",
            "7\n",
            "shubham\n",
            "u\n",
            "a\n",
            "SHUBHAM\n",
            " \n"
          ]
        }
      ]
    },
    {
      "cell_type": "code",
      "source": [
        "# Basic List Operations\n",
        "print(\"Basic List Operations:\")\n",
        "print([1, 2, 3] + [4, 5, 6])      # List concatenation\n",
        "print(['Hi'] * 3)                 # List repetition\n",
        "print(3 in [1, 2, 3])             # Membership check\n",
        "print(\" \")\n",
        "\n",
        "# List Update\n",
        "print(\"List Update:\")\n",
        "list = [\"shubham\", \"shivam\", \"deep\"]\n",
        "print(\"Original list:\", list)\n",
        "\n",
        "list[1] = \"samarth\"               # Update single element\n",
        "print(\"After changing index 1:\", list)\n",
        "\n",
        "list[1:3] = [\"sahil\", \"dhaval\"]   # Update a slice of list\n",
        "print(\"After slicing 1 to 3:\", list)\n",
        "print(\" \")\n",
        "\n"
      ],
      "metadata": {
        "colab": {
          "base_uri": "https://localhost:8080/"
        },
        "id": "41etI5JuEAdG",
        "outputId": "34ceca72-94b5-4a04-abe3-c94261df18e1"
      },
      "execution_count": 16,
      "outputs": [
        {
          "output_type": "stream",
          "name": "stdout",
          "text": [
            "Basic List Operations:\n",
            "[1, 2, 3, 4, 5, 6]\n",
            "['Hi', 'Hi', 'Hi']\n",
            "True\n",
            " \n",
            "List Update:\n",
            "Original list: ['shubham', 'shivam', 'deep']\n",
            "After changing index 1: ['shubham', 'samarth', 'deep']\n",
            "After slicing 1 to 3: ['shubham', 'sahil', 'dhaval']\n",
            " \n"
          ]
        }
      ]
    }
  ]
}